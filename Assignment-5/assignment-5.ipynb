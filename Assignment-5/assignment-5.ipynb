{
 "cells": [
  {
   "cell_type": "markdown",
   "metadata": {
    "_cell_guid": "b1076dfc-b9ad-4769-8c92-a6c4dae69d19",
    "_uuid": "8f2839f25d086af736a60e9eeb907d3b93b6e0e5"
   },
   "source": [
    "<h1>Regex Software Service </h1>\n",
    "\n",
    "<h2>Machine learning & Deep Leaning Internship/Training</h2>\n",
    "\n",
    "<h2>Name: Ashish Chauhan </h2>\n",
    "<h2>Task-5: </h2>"
   ]
  },
  {
   "cell_type": "markdown",
   "metadata": {},
   "source": [
    "<h3><b>Q1.</b> Given list of integers, write a function to return the sum of all prime numbers in that list.</h3>"
   ]
  },
  {
   "cell_type": "code",
   "execution_count": 1,
   "metadata": {
    "execution": {
     "iopub.execute_input": "2021-10-06T11:43:23.197156Z",
     "iopub.status.busy": "2021-10-06T11:43:23.196810Z",
     "iopub.status.idle": "2021-10-06T11:43:25.117635Z",
     "shell.execute_reply": "2021-10-06T11:43:25.116785Z",
     "shell.execute_reply.started": "2021-10-06T11:43:23.197125Z"
    }
   },
   "outputs": [
    {
     "name": "stdout",
     "output_type": "stream",
     "text": [
      "1,2,3,4,5,6,7,8\n",
      "The sum of all the prime number in the given list [1, 2, 3, 4, 5, 6, 7, 8] :: 17\n"
     ]
    }
   ],
   "source": [
    "def prime_num_sum(a):\n",
    "    prime_sum = 0\n",
    "    for i in a:\n",
    "        if i > 1:\n",
    "            count = 0\n",
    "            for j in range(2,i):\n",
    "                if i%j == 0:\n",
    "                    count += 1\n",
    "            if count == 0:\n",
    "                prime_sum += i\n",
    "    return prime_sum\n",
    "\n",
    "a = list(map(int,input().split(\",\")))\n",
    "print(\"The sum of all the prime number in the given list {} :: {}\".format(a,prime_num_sum(a)))"
   ]
  },
  {
   "cell_type": "markdown",
   "metadata": {},
   "source": [
    "<h3><b>Q2.</b> Given list of integers, write a function to check whether the list is strictly increasing or not.</h3>"
   ]
  },
  {
   "cell_type": "code",
   "execution_count": 2,
   "metadata": {
    "execution": {
     "iopub.execute_input": "2021-10-06T11:48:01.535470Z",
     "iopub.status.busy": "2021-10-06T11:48:01.535157Z",
     "iopub.status.idle": "2021-10-06T11:48:04.417174Z",
     "shell.execute_reply": "2021-10-06T11:48:04.416288Z",
     "shell.execute_reply.started": "2021-10-06T11:48:01.535442Z"
    }
   },
   "outputs": [
    {
     "name": "stdout",
     "output_type": "stream",
     "text": [
      "1,2,3,4,5,2,6,3,6\n",
      "The given list [1, 2, 3, 4, 5, 2, 6, 3, 6] is not strictly increasing\n"
     ]
    }
   ],
   "source": [
    "def check_inc_dec(a):\n",
    "    count = 0\n",
    "    for i in range(1,len(a)):\n",
    "        if a[i-1] >= a[i]:\n",
    "            count += 1\n",
    "    return \"strictly increasing\" if( count == 0) else \"not strictly increasing\"\n",
    "    \n",
    "a = list(map(int,input().split(\",\")))\n",
    "print('The given list {} is {}'.format(a, check_inc_dec(a)))"
   ]
  },
  {
   "cell_type": "markdown",
   "metadata": {},
   "source": [
    "<h3><b>Q3.</b> Write a function to check whether a given a list is expanding or not(the difference between adjecent elements should keep on increasing). </h3>"
   ]
  },
  {
   "cell_type": "code",
   "execution_count": 3,
   "metadata": {
    "execution": {
     "iopub.execute_input": "2021-10-06T12:21:21.350199Z",
     "iopub.status.busy": "2021-10-06T12:21:21.349185Z",
     "iopub.status.idle": "2021-10-06T12:21:26.112593Z",
     "shell.execute_reply": "2021-10-06T12:21:26.111434Z",
     "shell.execute_reply.started": "2021-10-06T12:21:21.350160Z"
    }
   },
   "outputs": [
    {
     "name": "stdout",
     "output_type": "stream",
     "text": [
      "1,2,3,4,2,5,3,6,4\n",
      "The given list [1, 2, 3, 4, 2, 5, 3, 6, 4] is not expendable\n"
     ]
    }
   ],
   "source": [
    "def check_adj(a):\n",
    "    n = len(a)\n",
    "    if n > 1:\n",
    "        count = 0\n",
    "        for i in range(1,n-1):\n",
    "            if (a[i] -a[i-1]) >= (a[i+1] - a[i]):\n",
    "                count += 1\n",
    "        return \"expendable\" if (count == 0) else \"not expendable\"\n",
    "\n",
    "lt = list(map(int, input().split(\",\")))\n",
    "print(\"The given list {} is {}\".format(lt, check_adj(lt)))"
   ]
  },
  {
   "cell_type": "markdown",
   "metadata": {},
   "source": [
    "<h3><b>Q4.</b> Write a function to calculate all permutations  of a given string.(Without using itertools). </h3>"
   ]
  },
  {
   "cell_type": "code",
   "execution_count": 9,
   "metadata": {
    "execution": {
     "iopub.execute_input": "2021-10-06T12:22:58.130457Z",
     "iopub.status.busy": "2021-10-06T12:22:58.130139Z",
     "iopub.status.idle": "2021-10-06T12:23:07.394130Z",
     "shell.execute_reply": "2021-10-06T12:23:07.393219Z",
     "shell.execute_reply.started": "2021-10-06T12:22:58.130427Z"
    }
   },
   "outputs": [
    {
     "name": "stdout",
     "output_type": "stream",
     "text": [
      "abcb\n",
      "The total permutation of a given string abcb :: 12\n"
     ]
    }
   ],
   "source": [
    "lt = []\n",
    "\n",
    "def joinString(List):\n",
    "    return ''.join(List)\n",
    "\n",
    "def differentPermutations(a, l, r):\n",
    "    if l == r:\n",
    "        new_str = joinString(a)\n",
    "        if new_str not in lt:\n",
    "            lt.append(new_str)\n",
    "    else:\n",
    "        for i in range(l,r+1):\n",
    "            a[l], a[i] = a[i], a[l]\n",
    "            differentPermutations(a, l+1, r)\n",
    "            a[l], a[i] = a[i], a[l]\n",
    "\n",
    "string = input().strip()\n",
    "n = len(string)\n",
    "a = list(string)\n",
    "differentPermutations(a, 0, n-1)\n",
    "print(\"The total permutation of a given string {} :: {}\".format(string, len(lt)))"
   ]
  }
 ],
 "metadata": {
  "kernelspec": {
   "display_name": "Python 3",
   "language": "python",
   "name": "python3"
  },
  "language_info": {
   "codemirror_mode": {
    "name": "ipython",
    "version": 3
   },
   "file_extension": ".py",
   "mimetype": "text/x-python",
   "name": "python",
   "nbconvert_exporter": "python",
   "pygments_lexer": "ipython3",
   "version": "3.7.6"
  }
 },
 "nbformat": 4,
 "nbformat_minor": 4
}

{
  "nbformat": 4,
  "nbformat_minor": 0,
  "metadata": {
    "colab": {
      "name": "Garbage_Classification_using_CNN.ipynb",
      "private_outputs": true,
      "provenance": [],
      "collapsed_sections": []
    },
    "kernelspec": {
      "name": "python3",
      "display_name": "Python 3"
    },
    "language_info": {
      "name": "python"
    },
    "accelerator": "GPU"
  },
  "cells": [
    {
      "cell_type": "code",
      "metadata": {
        "id": "VUDliQOsFVnS"
      },
      "source": [
        "from google.colab import drive\n",
        "drive.mount('/content/drive')"
      ],
      "execution_count": null,
      "outputs": []
    },
    {
      "cell_type": "code",
      "metadata": {
        "id": "EF6wcPNG0m55"
      },
      "source": [
        ""
      ],
      "execution_count": null,
      "outputs": []
    },
    {
      "cell_type": "code",
      "metadata": {
        "id": "0sBdpyrf0eQH"
      },
      "source": [
        "import numpy as np\n",
        "import pandas as pd\n",
        "import matplotlib.pyplot as plt\n",
        "%matplotlib inline\n",
        "\n",
        "import tensorflow as tf\n",
        "from tensorflow.keras.optimizers import Adam\n",
        "from tensorflow.keras.preprocessing.image import ImageDataGenerator\n",
        "from tensorflow.keras import datasets,layers, models,Model\n"
      ],
      "execution_count": null,
      "outputs": []
    },
    {
      "cell_type": "code",
      "metadata": {
        "id": "HIBLe7FiGew7"
      },
      "source": [
        "#  load garbage dataset\n",
        "(X_train, Y_train), (X_test, Y_test) = datasets.cifar10.load_data()"
      ],
      "execution_count": null,
      "outputs": []
    },
    {
      "cell_type": "code",
      "metadata": {
        "id": "8IMkODs6PBqe"
      },
      "source": [
        "X_train.shape, X_test.shape, Y_train.shape, Y_test.shape"
      ],
      "execution_count": null,
      "outputs": []
    },
    {
      "cell_type": "code",
      "metadata": {
        "id": "mOAVrbx1H5Sr"
      },
      "source": [
        "print(X_train)"
      ],
      "execution_count": null,
      "outputs": []
    },
    {
      "cell_type": "code",
      "metadata": {
        "id": "QwvBCP0gIAlF"
      },
      "source": [
        "print(X_test)"
      ],
      "execution_count": null,
      "outputs": []
    },
    {
      "cell_type": "code",
      "metadata": {
        "id": "wgUCakbRIDjf"
      },
      "source": [
        "print(Y_test)"
      ],
      "execution_count": null,
      "outputs": []
    },
    {
      "cell_type": "code",
      "metadata": {
        "id": "WDen54aoIFxM"
      },
      "source": [
        "print(Y_train)"
      ],
      "execution_count": null,
      "outputs": []
    },
    {
      "cell_type": "code",
      "metadata": {
        "id": "K42OaXXBIIoJ"
      },
      "source": [
        "#  classes name\n",
        "classes = ['airplane', 'automobile','bird','cat','deer','dog','frog','horse','ship','truck']"
      ],
      "execution_count": null,
      "outputs": []
    },
    {
      "cell_type": "code",
      "metadata": {
        "id": "qlTEy1VJIUG2"
      },
      "source": [
        "# ploting figures\n",
        "plt.figure(figsize = (24,24))\n",
        "for i in range(100):\n",
        "  plt.subplot(16,16,i+1)\n",
        "  plt.axis('off')\n",
        "  plt.imshow(X_train[i])"
      ],
      "execution_count": null,
      "outputs": []
    },
    {
      "cell_type": "code",
      "metadata": {
        "id": "sAurBUMwIzKk"
      },
      "source": [
        "# normalization data values\n",
        "X_train = X_test/255\n",
        "X_test = X_test/255"
      ],
      "execution_count": null,
      "outputs": []
    },
    {
      "cell_type": "code",
      "metadata": {
        "id": "lew2_AjoRNVR"
      },
      "source": [
        "train_datagen = ImageDataGenerator(rescale= 1./255,\n",
        "                                   rotation_range = 10,\n",
        "                                   zoom_range = 0.1,\n",
        "                                   width_shift_range = 0.1,\n",
        "                                   height_shift_range = 0.1,\n",
        "                                   vertical_flip= False\n",
        "                                   )\n",
        "train_datagen.fit(X_train)"
      ],
      "execution_count": null,
      "outputs": []
    },
    {
      "cell_type": "code",
      "metadata": {
        "id": "KeV8SpXBROd8"
      },
      "source": [
        "val_datagen = ImageDataGenerator(rescale=1./255)\n",
        "val_datagen.fit(X_test)"
      ],
      "execution_count": null,
      "outputs": []
    },
    {
      "cell_type": "code",
      "metadata": {
        "id": "g8Y0jqorJNFJ"
      },
      "source": [
        "model_cnn = models.Sequential([\n",
        "                  layers.Conv2D(64,(3,3),activation = 'relu', input_shape = (28,28,1)),\n",
        "                  layers.MaxPool2D((2,2)),\n",
        "                  layers.Conv2D(128,(3,3),activation = 'relu'),\n",
        "                  layers.Conv2D(256,(3,3),activation = 'relu'),\n",
        "                  layers.MaxPool2D((2,2)),\n",
        "                  layers.Conv2D(512,(3,3),activation = 'relu'),\n",
        "                  layers.Flatten(),\n",
        "                  layers.Dense(128, activation='relu'),\n",
        "                  layers.Dense(10, activation='softmax')\n",
        "])"
      ],
      "execution_count": null,
      "outputs": []
    },
    {
      "cell_type": "code",
      "metadata": {
        "id": "n4XRh8XlN4HK"
      },
      "source": [
        "model_cnn.summary()"
      ],
      "execution_count": null,
      "outputs": []
    },
    {
      "cell_type": "code",
      "metadata": {
        "id": "yJydnUB5N8mB"
      },
      "source": [
        "from tensorflow.keras.optimizers import SGD\n",
        "model_cnn.compile(optimizer = SGD(), loss='categorical_crossentropy',\n",
        "              metrics = ['accuracy'])"
      ],
      "execution_count": null,
      "outputs": []
    },
    {
      "cell_type": "code",
      "metadata": {
        "id": "AWfbffdkPAqD"
      },
      "source": [
        "history = model_cnn.fit(train_datagen.flow(X_train.reshape(-1),Y_train.reshape, batch_size = 64),\n",
        "                        val_datagen.flow(X_test, Y_test, batch_size= 64),\n",
        "                        epochs = 20,\n",
        "                        verbose= 1\n",
        "                        )"
      ],
      "execution_count": null,
      "outputs": []
    },
    {
      "cell_type": "code",
      "metadata": {
        "id": "tRSjyn-bRqAu"
      },
      "source": [
        "model_cnn.predict([X_test])"
      ],
      "execution_count": null,
      "outputs": []
    },
    {
      "cell_type": "code",
      "metadata": {
        "id": "RgZA7sWrSd1D"
      },
      "source": [
        "np.argmax(model_cnn.predict([X_test[:2]]), axis == 1)"
      ],
      "execution_count": null,
      "outputs": []
    },
    {
      "cell_type": "code",
      "metadata": {
        "id": "MwK-o4fISd8m"
      },
      "source": [
        "history.history"
      ],
      "execution_count": null,
      "outputs": []
    },
    {
      "cell_type": "code",
      "metadata": {
        "id": "sgvCR1NHSeBJ"
      },
      "source": [
        ""
      ],
      "execution_count": null,
      "outputs": []
    },
    {
      "cell_type": "code",
      "metadata": {
        "id": "CuTbpS3NOGeB"
      },
      "source": [
        ""
      ],
      "execution_count": null,
      "outputs": []
    }
  ]
}
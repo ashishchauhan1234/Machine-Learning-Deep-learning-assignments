{
 "cells": [
  {
   "cell_type": "markdown",
   "metadata": {},
   "source": [
    "<h1>Regex Software Services </h1>"
   ]
  },
  {
   "cell_type": "markdown",
   "metadata": {},
   "source": [
    "<h3> Machine learning & Deep learning training and Internship</h3>\n",
    "<h3>Name = Ashish Chauhan</h3> "
   ]
  },
  {
   "cell_type": "markdown",
   "metadata": {},
   "source": [
    "<h3>Task-3 ( Functions )</h3>"
   ]
  },
  {
   "cell_type": "markdown",
   "metadata": {},
   "source": [
    "## Write a program to get the nth term of fibonacci sequence"
   ]
  },
  {
   "cell_type": "markdown",
   "metadata": {},
   "source": [
    "<ul>\n",
    "    <li> A fibonacci series is a series in which the sum of the previous two numbers defines the current number.</li>\n",
    "    <li>\n",
    "        In the fibonacci function , we have used i,j,k to represent the numbers in the series( where 'i' & 'j' represent the two previous numbers and 'k' represent the current number) and 'val' is an empty list to store fibonacci series.\n",
    "    </li>\n",
    "    <li>\n",
    "        For loop is used to add the value of k to the val list where the value of k is obtained by the sum of previous two numbers(i,j) after saving number into the list ,we pass the value of j to i and the value of k to j and the value of k is equal to the sum of the value of i and j. \n",
    "    </li>\n",
    "</ul>"
   ]
  },
  {
   "cell_type": "code",
   "execution_count": 73,
   "metadata": {},
   "outputs": [
    {
     "name": "stdout",
     "output_type": "stream",
     "text": [
      "Input Number :: 10\n",
      "The Fibonacci series :: [0, 1, 1, 2, 3, 5, 8, 13, 21, 34]\n",
      "The 10th number in the Fibonacci series is 34\n"
     ]
    }
   ],
   "source": [
    "def fibonacci(n):\n",
    "    i, j, k = 1,0,0\n",
    "    val = []\n",
    "    for l in range(n):\n",
    "        val.append(k)\n",
    "        j= i\n",
    "        i= k\n",
    "        k= j+i\n",
    "    return(val)\n",
    "\n",
    "n = int(input(\"Input Number :: \"))\n",
    "print(\"The Fibonacci series :: {}\".format(fibonacci(n)))\n",
    "print(\"The {}th number in the Fibonacci series is {}\".format(n, fibonacci(n)[n-1]))"
   ]
  },
  {
   "cell_type": "markdown",
   "metadata": {},
   "source": [
    "## Q2. write a function to find out GCD of two numbers using EUCLID's algorithm."
   ]
  },
  {
   "cell_type": "markdown",
   "metadata": {},
   "source": [
    "<ul>\n",
    "    <li>In this, we create a recursuive function named gcd_euclidiean() with two parameters a and b.</li>\n",
    "    <li>we have use If condition for breaking the recursion call when a is equal to 0 it returns b otherwise recursive call to the function itself.</li>\n",
    "</ul>"
   ]
  },
  {
   "cell_type": "code",
   "execution_count": 7,
   "metadata": {},
   "outputs": [
    {
     "name": "stdout",
     "output_type": "stream",
     "text": [
      "7\n",
      "3\n",
      "The factors of 7 is [1, 7] \n",
      "The factors of 3 is [1, 3]\n",
      "gcd ==  [1] 1\n"
     ]
    }
   ],
   "source": [
    "# Euclidean method\n",
    "def gcd_euclidean(a,b):\n",
    "    if a ==0:\n",
    "        return b\n",
    "    return( gcd_euclidean(b%a,a))\n",
    "\n",
    "m = int(input(\"First number ::\"))\n",
    "n = int(input(\"Second number ::\"))\n",
    "print(\"The gcd of the num {} and {} is {}\".format(m,n,gcd_euclidean(m,n)))"
   ]
  },
  {
   "cell_type": "markdown",
   "metadata": {},
   "source": [
    "## Q3. Write  function to find LCM of two number i most optimizes way. "
   ]
  },
  {
   "cell_type": "markdown",
   "metadata": {},
   "source": [
    "\n",
    "In function lcm(), \n",
    "<ul>\n",
    "    <li>first we initilize num3 with num1 if num1 is greater than num2 otherwise initilize with num2.</li>\n",
    "    <li>now we iterate the while loop untill the IF condition is True.If the condition become True then the function returns num3 otherwise the loop iterate infinitely and increments the value of num3 by 1</li>\n",
    "</ul>"
   ]
  },
  {
   "cell_type": "code",
   "execution_count": 66,
   "metadata": {},
   "outputs": [
    {
     "name": "stdout",
     "output_type": "stream",
     "text": [
      "First number :: 164\n",
      "Second number :: 45\n",
      "The LCM of 164 and 45 is 7380\n"
     ]
    }
   ],
   "source": [
    "def lcm(num1,num2):\n",
    "    num3 = num1 if num1>num2 else num2\n",
    "    while True:\n",
    "        if (num3%num1 == 0 and num3%num2 == 0):\n",
    "            return num3\n",
    "        num3 += 1\n",
    "\n",
    "m = int(input(\"First number :: \"))\n",
    "n = int(input(\"Second number :: \"))\n",
    "\n",
    "print(\"The LCM of {} and {} is {}\".format(m, n, lcm(m,n)))\n"
   ]
  }
 ],
 "metadata": {
  "kernelspec": {
   "display_name": "Python 3",
   "language": "python",
   "name": "python3"
  },
  "language_info": {
   "codemirror_mode": {
    "name": "ipython",
    "version": 3
   },
   "file_extension": ".py",
   "mimetype": "text/x-python",
   "name": "python",
   "nbconvert_exporter": "python",
   "pygments_lexer": "ipython3",
   "version": "3.7.6"
  }
 },
 "nbformat": 4,
 "nbformat_minor": 4
}

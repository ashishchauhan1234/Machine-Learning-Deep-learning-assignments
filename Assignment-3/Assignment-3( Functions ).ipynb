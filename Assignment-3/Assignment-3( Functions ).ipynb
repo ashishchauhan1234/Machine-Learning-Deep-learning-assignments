{
  "nbformat": 4,
  "nbformat_minor": 0,
  "metadata": {
    "kernelspec": {
      "display_name": "Python 3",
      "language": "python",
      "name": "python3"
    },
    "language_info": {
      "codemirror_mode": {
        "name": "ipython",
        "version": 3
      },
      "file_extension": ".py",
      "mimetype": "text/x-python",
      "name": "python",
      "nbconvert_exporter": "python",
      "pygments_lexer": "ipython3",
      "version": "3.7.6"
    },
    "colab": {
      "name": "Assignment 3( Functions).ipynb",
      "provenance": []
    }
  },
  "cells": [
    {
      "cell_type": "markdown",
      "metadata": {
        "id": "RHLoR43s1Gra"
      },
      "source": [
        "<h1>Regex Software Services </h1>"
      ]
    },
    {
      "cell_type": "markdown",
      "metadata": {
        "id": "TRV6KD3p1Grd"
      },
      "source": [
        "<h3> Machine learning & Deep learning Internship/Training</h3>"
      ]
    },
    {
      "cell_type": "markdown",
      "metadata": {
        "id": "fDhcT9ic1Grf"
      },
      "source": [
        "<h3>Name = Ashish Chauhan</h3>\n",
        "<h3>Task-3: Functions </h3>"
      ]
    },
    {
      "cell_type": "markdown",
      "metadata": {
        "id": "ToEwpBYp1Grg"
      },
      "source": [
        "Q1.Write a program to get the nth term of fibonacci sequence"
      ]
    },
    {
      "cell_type": "code",
      "metadata": {
        "id": "9DGoW98a1Gri",
        "colab": {
          "base_uri": "https://localhost:8080/"
        },
        "outputId": "884dadc5-be10-4651-e7c9-06998f7a8006"
      },
      "source": [
        "def fibonacci(n):\n",
        "    i, j, k = 1,0,0\n",
        "    val = []\n",
        "    for l in range(n):\n",
        "        val.append(k)\n",
        "        j= i\n",
        "        i= k\n",
        "        k= j+i\n",
        "    return val[n-1]\n",
        "\n",
        "n = int(input(\"Input Number :: \"))\n",
        "print(\"The {} th number in the Fibonacci series is {}\".format(n, fibonacci(n+1) ))"
      ],
      "execution_count": 19,
      "outputs": [
        {
          "output_type": "stream",
          "name": "stdout",
          "text": [
            "Input Number :: 10\n",
            "The 10 th number in the Fibonacci series is 55\n"
          ]
        }
      ]
    },
    {
      "cell_type": "markdown",
      "metadata": {
        "id": "TFPGsIMB1Grl"
      },
      "source": [
        "Q2. Write a function to find out GCD of two numbers using EUCLID's algorithm."
      ]
    },
    {
      "cell_type": "code",
      "metadata": {
        "colab": {
          "base_uri": "https://localhost:8080/"
        },
        "id": "GKV2P3Dx1Grp",
        "outputId": "872f44cf-8594-441d-ede5-a1711b9d238c"
      },
      "source": [
        "# Euclidean method\n",
        "def gcd_euclidean(a,b):\n",
        "    if a ==0:\n",
        "        return b\n",
        "    return( gcd_euclidean(b%a,a))\n",
        "   \n",
        "m = int(input(\"First number :: \"))\n",
        "n = int(input(\"Second number :: \"))\n",
        "print(\"The gcd of the num {} and {} is {}\".format(m,n,gcd_euclidean(m,n)))\n"
      ],
      "execution_count": 22,
      "outputs": [
        {
          "output_type": "stream",
          "name": "stdout",
          "text": [
            "First number :: 12\n",
            "Second number :: 62\n",
            "The gcd of the num 12 and 62 is 2\n"
          ]
        }
      ]
    },
    {
      "cell_type": "markdown",
      "metadata": {
        "id": "HivbBL2h1Grr"
      },
      "source": [
        "Q3. Write  function to find LCM of two number in most optimizes way. "
      ]
    },
    {
      "cell_type": "code",
      "metadata": {
        "id": "WJaYz2Cl1Grt",
        "colab": {
          "base_uri": "https://localhost:8080/"
        },
        "outputId": "d1411f50-055b-48ca-ceea-ac3beca7b884"
      },
      "source": [
        "def lcm(num1,num2):\n",
        "    num3 = num1 if num1>num2 else num2\n",
        "    while True:\n",
        "        if (num3%num1 == 0 and num3%num2 == 0):\n",
        "            return num3\n",
        "        num3 += 1\n",
        "\n",
        "m = int(input(\"First number :: \"))\n",
        "n = int(input(\"Second number :: \"))\n",
        "print(\"The LCM of {} and {} is {}\".format(m, n, lcm(m,n)))"
      ],
      "execution_count": 24,
      "outputs": [
        {
          "output_type": "stream",
          "name": "stdout",
          "text": [
            "First number :: 9\n",
            "Second number :: 52\n",
            "The LCM of 9 and 52 is 468\n"
          ]
        }
      ]
    },
    {
      "cell_type": "code",
      "metadata": {
        "id": "8geGULndzJnb"
      },
      "source": [
        ""
      ],
      "execution_count": null,
      "outputs": []
    }
  ]
}
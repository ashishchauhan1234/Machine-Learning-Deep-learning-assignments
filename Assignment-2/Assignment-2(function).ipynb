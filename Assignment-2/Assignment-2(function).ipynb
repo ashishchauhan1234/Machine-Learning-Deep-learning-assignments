{
 "cells": [
  {
   "cell_type": "markdown",
   "metadata": {},
   "source": [
    "# Regex Software Services"
   ]
  },
  {
   "cell_type": "markdown",
   "metadata": {},
   "source": [
    "<h3> Machine learning & Deep learning training and Internship</h3>\n",
    "<h3>Name = Ashish Chauhan</h3>"
   ]
  },
  {
   "cell_type": "markdown",
   "metadata": {},
   "source": [
    "<h3>Task-2 ( Lambda Functions )</h3>"
   ]
  },
  {
   "cell_type": "markdown",
   "metadata": {},
   "source": [
    "## Q1. Write a lambda function to extract first word of a string."
   ]
  },
  {
   "cell_type": "markdown",
   "metadata": {},
   "source": [
    "<ul>\n",
    "    <li>\n",
    "        Here we have define a lambda function named \"First\" for extracting the irst word of the string.\n",
    "    </li>\n",
    "    <li> the string is representing by the variable 'a', When the string is pass to the lambda function,</li>\n",
    "</ul>"
   ]
  },
  {
   "cell_type": "code",
   "execution_count": 1,
   "metadata": {},
   "outputs": [
    {
     "name": "stdout",
     "output_type": "stream",
     "text": [
      "ashish chauhan\n",
      "First word of the sting :: ashish\n"
     ]
    }
   ],
   "source": [
    "s = input()\n",
    "first = lambda a: [ c for c in a.split(\" \")][0] \n",
    "print(\"First word of the sting :: {}\".format(first(s)))"
   ]
  },
  {
   "cell_type": "markdown",
   "metadata": {},
   "source": [
    "## Q2. Write a function to extract first word of a string( with many words seprated by space)"
   ]
  },
  {
   "cell_type": "markdown",
   "metadata": {},
   "source": [
    "<ul>\n",
    "    <li>\n",
    "        Here we have defined a function named \"First_word\" with parameter \"s\" for extracting the first word of a string(with many words seperated by space).\n",
    "    </li>\n",
    "    <li> in the function, we convert the string to a list and return the first element from the list</li>\n",
    "</ul>"
   ]
  },
  {
   "cell_type": "code",
   "execution_count": 2,
   "metadata": {},
   "outputs": [
    {
     "name": "stdout",
     "output_type": "stream",
     "text": [
      "ashish chauhan \n",
      "first word of the stings :: ashish\n"
     ]
    }
   ],
   "source": [
    "def first_word(s):\n",
    "    a = [c for c in s.split(\" \")]\n",
    "    return a[0]\n",
    "s = input(\"Enter a string :: \") \n",
    "# It take a string (with many words seprated by space) as input.\n",
    "print(\"first word of the stings :: {}\".format(first_word(s)))"
   ]
  },
  {
   "cell_type": "markdown",
   "metadata": {},
   "source": [
    "## Q3. Extract the first word from every string from a list of strings by using map function"
   ]
  },
  {
   "cell_type": "code",
   "execution_count": 21,
   "metadata": {},
   "outputs": [
    {
     "name": "stdout",
     "output_type": "stream",
     "text": [
      "Enter strings :: be happy, to be honest, do workhard\n",
      "['be', 'to', 'do']\n"
     ]
    }
   ],
   "source": [
    "def b(a):\n",
    "    return a.strip().split(\" \")[0]\n",
    "# It take a strings with ',' as input and the string converts to a list seprated by ',' \n",
    "s = list(map(str,input(\"Enter strings :: \").split(\",\")))\n",
    "res = map(b,s)  \n",
    "print(list(res))\n",
    "# be happy, to be honest, do workhard"
   ]
  },
  {
   "cell_type": "markdown",
   "metadata": {},
   "source": [
    "## Q4. write a function to return a list of prime factor of a given number."
   ]
  },
  {
   "cell_type": "code",
   "execution_count": 4,
   "metadata": {},
   "outputs": [
    {
     "name": "stdout",
     "output_type": "stream",
     "text": [
      "121\n",
      "Prime factor of given num 121 is [11, 11]\n"
     ]
    }
   ],
   "source": [
    "def primeFactor(a):\n",
    "    c,d=[],a\n",
    "    for i in range(2,a+1):\n",
    "        if d%i == 0:\n",
    "            while d%i == 0:\n",
    "                d = d//i\n",
    "                c.append(i)\n",
    "    return c\n",
    "\n",
    "num = int(input(\"Enter number :: \")) # it takes a number as an input\n",
    "res = primeFactor(num)\n",
    "print(\"Prime factor of given num {} is {}\".format(num,res))"
   ]
  },
  {
   "cell_type": "markdown",
   "metadata": {},
   "source": [
    "## Q5. Write a function that finds 2nd largest among 4 numbers (repetitions are allowed without sorting)"
   ]
  },
  {
   "cell_type": "code",
   "execution_count": 6,
   "metadata": {},
   "outputs": [
    {
     "name": "stdout",
     "output_type": "stream",
     "text": [
      "12 23 1 24\n",
      "The second highest num in the given list [12, 23, 1, 24] is 23\n"
     ]
    }
   ],
   "source": [
    "def second_largest(a):\n",
    "    first = a[0]\n",
    "    second = a[0]\n",
    "    for i in a:\n",
    "        if first <= i:\n",
    "            second = first\n",
    "            first = i\n",
    "        elif second < i and first != i:\n",
    "            second = i\n",
    "    return(second)\n",
    "\n",
    "a = list(map(int,input(\"Enter 4 numbers (space seprated) :: \").split(\" \")))[:4] \n",
    "# it take 4 space seprated integers as input and converted into list.\n",
    "print(\"The second highest num in the given list {} is {}\".format(a,second_largest(a)))"
   ]
  }
 ],
 "metadata": {
  "kernelspec": {
   "display_name": "Python 3",
   "language": "python",
   "name": "python3"
  },
  "language_info": {
   "codemirror_mode": {
    "name": "ipython",
    "version": 3
   },
   "file_extension": ".py",
   "mimetype": "text/x-python",
   "name": "python",
   "nbconvert_exporter": "python",
   "pygments_lexer": "ipython3",
   "version": "3.7.6"
  }
 },
 "nbformat": 4,
 "nbformat_minor": 4
}

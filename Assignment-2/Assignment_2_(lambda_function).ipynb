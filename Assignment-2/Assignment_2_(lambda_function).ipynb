{
  "nbformat": 4,
  "nbformat_minor": 0,
  "metadata": {
    "kernelspec": {
      "display_name": "Python 3",
      "language": "python",
      "name": "python3"
    },
    "language_info": {
      "codemirror_mode": {
        "name": "ipython",
        "version": 3
      },
      "file_extension": ".py",
      "mimetype": "text/x-python",
      "name": "python",
      "nbconvert_exporter": "python",
      "pygments_lexer": "ipython3",
      "version": "3.7.6"
    },
    "colab": {
      "name": "Assignment-2 (lambda function).ipynb",
      "provenance": []
    }
  },
  "cells": [
    {
      "cell_type": "markdown",
      "metadata": {
        "id": "Dut-FIcPj4sf"
      },
      "source": [
        "# Regex Software Services"
      ]
    },
    {
      "cell_type": "markdown",
      "metadata": {
        "id": "fJ89_h3dj4sh"
      },
      "source": [
        "<h3> Machine learning & Deep learning Internship / training</h3>\n",
        "<h3>Name = Ashish Chauhan</h3>"
      ]
    },
    {
      "cell_type": "markdown",
      "metadata": {
        "id": "9Gx7_xfLj4sh"
      },
      "source": [
        "<h3>Task-2 ( Lambda Functions )</h3>"
      ]
    },
    {
      "cell_type": "markdown",
      "metadata": {
        "id": "S0pbwbHQj4si"
      },
      "source": [
        "## Q1. Write a lambda function to extract first word of a string."
      ]
    },
    {
      "cell_type": "code",
      "metadata": {
        "colab": {
          "base_uri": "https://localhost:8080/"
        },
        "id": "xRdTCDgxj4si",
        "outputId": "6736ff6a-d4ee-4663-b9b8-3466ba272513"
      },
      "source": [
        "s = input(\"Enter a string :: \").strip() # input string\n",
        "first = lambda a: [ c for c in a.split(\" \")][0]  # define lambda function\n",
        "print(\"First word of the sting :: {}\".format(first(s)))\n",
        "\n",
        "# Input - Ashish Chauhan "
      ],
      "execution_count": null,
      "outputs": [
        {
          "output_type": "stream",
          "name": "stdout",
          "text": [
            "Enter a string ::  Ashish Chauhan \n",
            "First word of the sting :: Ashish\n"
          ]
        }
      ]
    },
    {
      "cell_type": "markdown",
      "metadata": {
        "id": "XHvQXllMj4sj"
      },
      "source": [
        "## Q2. Write a function to extract first word of a string( with many words seprated by space)"
      ]
    },
    {
      "cell_type": "code",
      "metadata": {
        "colab": {
          "base_uri": "https://localhost:8080/"
        },
        "id": "goazqZNxj4sk",
        "outputId": "7bf59b71-cca0-4e3a-aa0f-c080a442c8c9"
      },
      "source": [
        "def first_word(s):    # define a function to extract the first word of a string\n",
        "    a = [c for c in s.split(\" \")]\n",
        "    return a[0]  \n",
        "\n",
        "s = input(\"Enter a string :: \").strip()  # input a string.\n",
        "print(\"first word of the stings :: {}\".format(first_word(s)))\n",
        "\n",
        "# input- My name is Ashish Chauhan "
      ],
      "execution_count": null,
      "outputs": [
        {
          "output_type": "stream",
          "name": "stdout",
          "text": [
            "Enter a string :: My name is Ashish Chauhan \n",
            "first word of the stings :: My\n"
          ]
        }
      ]
    },
    {
      "cell_type": "markdown",
      "metadata": {
        "id": "_AUY5t-1j4sk"
      },
      "source": [
        "## Q3. Extract the first word from every string from a list of strings by using map function"
      ]
    },
    {
      "cell_type": "code",
      "metadata": {
        "colab": {
          "base_uri": "https://localhost:8080/"
        },
        "id": "xXV8LUQsj4sk",
        "outputId": "d34c9f93-fbc3-4f23-f4e2-4f4ecedeeea4"
      },
      "source": [
        "def b(a):\n",
        "  s = a.strip().split(\" \")\n",
        "  return s[0]\n",
        "\n",
        "# It take a strings with ',' as input and the string converts to a list seprated by ',' \n",
        "s = list(map(str,input(\"Enter strings :: \").strip().split(\",\")))\n",
        "res = map(b,s)  \n",
        "print(list(res))\n",
        "\n",
        "# input- be happy, to be honest, do workhard"
      ],
      "execution_count": null,
      "outputs": [
        {
          "output_type": "stream",
          "name": "stdout",
          "text": [
            "Enter strings ::  be happy, to be honest, do workhard\n",
            "['be', 'to', 'do']\n"
          ]
        }
      ]
    },
    {
      "cell_type": "markdown",
      "metadata": {
        "id": "Nd-OzdNtj4sl"
      },
      "source": [
        "## Q4. write a function to return a list of prime factor of a given number."
      ]
    },
    {
      "cell_type": "code",
      "metadata": {
        "colab": {
          "base_uri": "https://localhost:8080/"
        },
        "id": "69keRrrsj4sl",
        "outputId": "b44003a2-08e7-423f-ae35-de83ce7aa1f3"
      },
      "source": [
        "def primeFactor(a): # define a function \n",
        "\n",
        "    c,d=[],a\n",
        "    for i in range(2,a+1):\n",
        "        if d%i == 0:\n",
        "            while d%i == 0:\n",
        "                d = d//i\n",
        "                c.append(i)\n",
        "    return c\n",
        "\n",
        "num = int(input(\"Enter number :: \").strip()) # input integer values \n",
        "res = primeFactor(num)\n",
        "print(\"Prime factor of given num {} is {}\".format(num,res))"
      ],
      "execution_count": null,
      "outputs": [
        {
          "output_type": "stream",
          "name": "stdout",
          "text": [
            "Enter number :: 1332\n",
            "Prime factor of given num 1332 is [2, 2, 3, 3, 37]\n"
          ]
        }
      ]
    },
    {
      "cell_type": "markdown",
      "metadata": {
        "id": "_7-_qsfQj4sl"
      },
      "source": [
        "## Q5. Write a function that finds 2nd largest among 4 numbers (repetitions are allowed without sorting)"
      ]
    },
    {
      "cell_type": "code",
      "metadata": {
        "colab": {
          "base_uri": "https://localhost:8080/"
        },
        "id": "407RFbcgj4sm",
        "outputId": "2c71a7db-391e-4d0e-c9d5-5fbd59a7da90"
      },
      "source": [
        "def second_largest(a):\n",
        "    first = 0     # largest number \n",
        "    second = 0    # second largest number\n",
        "    for i in a:\n",
        "        if first <= i:\n",
        "            second = first\n",
        "            first = i\n",
        "        elif second < i and first != i:\n",
        "            second = i\n",
        "    return(second)\n",
        "\n",
        "a = list(map(int,input(\"Enter 4 numbers (space seprated) :: \").strip().split(\",\")))[:4]  # input 4 integers\n",
        "print(\"The second highest num in the given list {} is {}\".format(a,second_largest(a)))\n",
        "\n",
        "# Input - 54, 12, 34,23"
      ],
      "execution_count": null,
      "outputs": [
        {
          "output_type": "stream",
          "name": "stdout",
          "text": [
            "Enter 4 numbers (space seprated) :: 54, 12, 34,23\n",
            "The second highest num in the given list [54, 12, 34, 23] is 34\n"
          ]
        }
      ]
    }
  ]
}
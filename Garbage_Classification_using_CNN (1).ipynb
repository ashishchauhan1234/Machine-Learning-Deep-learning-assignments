{
  "nbformat": 4,
  "nbformat_minor": 0,
  "metadata": {
    "colab": {
      "name": "Garbage_Classification_using_CNN.ipynb",
      "private_outputs": true,
      "provenance": [],
      "collapsed_sections": []
    },
    "kernelspec": {
      "name": "python3",
      "display_name": "Python 3"
    },
    "language_info": {
      "name": "python"
    },
    "accelerator": "GPU"
  },
  "cells": [
    {
      "cell_type": "code",
      "metadata": {
        "id": "VUDliQOsFVnS"
      },
      "source": [
        "from google.colab import drive\n",
        "drive.mount('/content/drive')"
      ],
      "execution_count": null,
      "outputs": []
    },
    {
      "cell_type": "code",
      "metadata": {
        "id": "EF6wcPNG0m55"
      },
      "source": [
        "train_data_path = \"/content/drive/MyDrive/datasets/TRAIN\"\n",
        "test_data_path = \"/content/drive/MyDrive/datasets/TEST\""
      ],
      "execution_count": null,
      "outputs": []
    },
    {
      "cell_type": "code",
      "metadata": {
        "id": "0sBdpyrf0eQH"
      },
      "source": [
        "import numpy as np\n",
        "import pandas as pd\n",
        "import matplotlib.pyplot as plt\n",
        "%matplotlib inline\n",
        "\n",
        "import tensorflow as tf\n",
        "from tensorflow.keras.optimizers import Adam\n",
        "from tensorflow.keras.preprocessing.image import ImageDataGenerator\n",
        "from tensorflow.keras import datasets,layers, models,Model\n"
      ],
      "execution_count": null,
      "outputs": []
    },
    {
      "cell_type": "code",
      "metadata": {
        "id": "HXUAnMM3QE4T"
      },
      "source": [
        "# train data generator\n",
        "import os\n",
        "classes = os.listdir(train_data_path)\n",
        "classes"
      ],
      "execution_count": null,
      "outputs": []
    },
    {
      "cell_type": "code",
      "metadata": {
        "id": "qlTEy1VJIUG2"
      },
      "source": [
        "# ploting figures\n",
        "def plot_img(item_dir, top=10):\n",
        "  all_items = os.listdir(item_dir)\n",
        "  item_files = [os.path.join(item_dir+file) for file in all_items][:5]\n",
        "\n",
        "  plt.figure(figsize = (24,24))\n",
        "  for id, img_path in enumerate(item_files):\n",
        "    img = plt.imread(img_path)\n",
        "    plt.subplot(16,16,id+1)\n",
        "    plt.axis('off')\n",
        "    plt.imshow(img)"
      ],
      "execution_count": null,
      "outputs": []
    },
    {
      "cell_type": "code",
      "metadata": {
        "id": "yNYSX5e4SUgA"
      },
      "source": [
        "plot_img(train_data_path+'/plastic/')"
      ],
      "execution_count": null,
      "outputs": []
    },
    {
      "cell_type": "code",
      "metadata": {
        "id": "SasVR9EReQFa"
      },
      "source": [
        "plot_img(train_data_path+'/cardboard/')"
      ],
      "execution_count": null,
      "outputs": []
    },
    {
      "cell_type": "code",
      "metadata": {
        "id": "Nn2dLktUeSCi"
      },
      "source": [
        "plot_img(train_data_path+'/paper/')"
      ],
      "execution_count": null,
      "outputs": []
    },
    {
      "cell_type": "code",
      "metadata": {
        "id": "p_PUJA89ZyrP"
      },
      "source": [
        "plot_img(train_data_path+'/metal/')"
      ],
      "execution_count": null,
      "outputs": []
    },
    {
      "cell_type": "code",
      "metadata": {
        "id": "RK_DmOQTSbVn"
      },
      "source": [
        "plot_img(train_data_path+'/glass/')\n"
      ],
      "execution_count": null,
      "outputs": []
    },
    {
      "cell_type": "code",
      "metadata": {
        "id": "XFhY0MMueWra"
      },
      "source": [
        "plot_img(train_data_path+'/trash/')\n"
      ],
      "execution_count": null,
      "outputs": []
    },
    {
      "cell_type": "code",
      "metadata": {
        "id": "lew2_AjoRNVR"
      },
      "source": [
        "# train data generator\n",
        "train_datagen = ImageDataGenerator(\n",
        "    preprocessing_function = tf.keras.applications.vgg16.preprocess_input,\n",
        "    rescale= 1./255,\n",
        "                                   rotation_range = 10,\n",
        "                                   zoom_range = 0.1,\n",
        "                                   width_shift_range = 0.1,\n",
        "                                   height_shift_range = 0.1,\n",
        "                                   vertical_flip= False\n",
        "                                   )"
      ],
      "execution_count": null,
      "outputs": []
    },
    {
      "cell_type": "code",
      "metadata": {
        "id": "0jv66MNHafM2"
      },
      "source": [
        "train_datagen.flow_from_directory(train_data_path, target_size=(128,128), batch_size=64, class_mode = 'categorical', subset = 'training')"
      ],
      "execution_count": null,
      "outputs": []
    },
    {
      "cell_type": "code",
      "metadata": {
        "id": "KeV8SpXBROd8"
      },
      "source": [
        "val_datagen = ImageDataGenerator(rescale=1./255)"
      ],
      "execution_count": null,
      "outputs": []
    },
    {
      "cell_type": "code",
      "metadata": {
        "id": "HNfbbYjoaeYE"
      },
      "source": [
        "val_datagen.flow_from_directory(test_data_path, target_size=(128,128), batch_size=60, class_mode = 'categorical', subset = 'validation')"
      ],
      "execution_count": null,
      "outputs": []
    },
    {
      "cell_type": "code",
      "metadata": {
        "id": "g8Y0jqorJNFJ"
      },
      "source": [
        "model_cnn = models.Sequential([\n",
        "                  layers.Conv2D(64,(3,3),activation = 'relu', input_shape = (32,32,3)),\n",
        "                  layers.MaxPool2D((2,2)),\n",
        "                  layers.Conv2D(128,(3,3),activation = 'relu'),\n",
        "                  layers.Conv2D(256,(3,3),activation = 'relu'),\n",
        "                  layers.MaxPool2D((2,2)),\n",
        "                  layers.Conv2D(512,(3,3),activation = 'relu'),\n",
        "                  layers.Flatten(),\n",
        "                  layers.Dense(128, activation='relu'),\n",
        "                  layers.Dense(10, activation='softmax')\n",
        "])"
      ],
      "execution_count": null,
      "outputs": []
    },
    {
      "cell_type": "code",
      "metadata": {
        "id": "n4XRh8XlN4HK"
      },
      "source": [
        "model_cnn.summary()"
      ],
      "execution_count": null,
      "outputs": []
    },
    {
      "cell_type": "code",
      "metadata": {
        "id": "yJydnUB5N8mB"
      },
      "source": [
        "from tensorflow.keras.optimizers import SGD\n",
        "model_cnn.compile(optimizer = 'adam', loss='categorical_crossentropy',\n",
        "              metrics = ['accuracy'])"
      ],
      "execution_count": null,
      "outputs": []
    },
    {
      "cell_type": "code",
      "metadata": {
        "id": "SR4qkzkSaF4H"
      },
      "source": [
        "# X_train.shape, Y_train.shape"
      ],
      "execution_count": null,
      "outputs": []
    },
    {
      "cell_type": "code",
      "metadata": {
        "id": "Kn66oTkSO-ng"
      },
      "source": [
        "# model_cnn.fit(X_train,Y_train,  epochs = 20)"
      ],
      "execution_count": null,
      "outputs": []
    },
    {
      "cell_type": "code",
      "metadata": {
        "id": "AWfbffdkPAqD"
      },
      "source": [
        " history = model_cnn.fit_generator(train_datagen,\n",
        "                        validation_data = val_datagen,\n",
        "                        epochs = 30,\n",
        "                        verbose = 1,\n",
        "                        )"
      ],
      "execution_count": null,
      "outputs": []
    },
    {
      "cell_type": "code",
      "metadata": {
        "id": "MPBZTs_3dISV"
      },
      "source": [
        "score = model_cnn.evaluate(_datagen)"
      ],
      "execution_count": null,
      "outputs": []
    },
    {
      "cell_type": "code",
      "metadata": {
        "id": "Nfn8-Mv4hS5f"
      },
      "source": [
        ""
      ],
      "execution_count": null,
      "outputs": []
    }
  ]
}
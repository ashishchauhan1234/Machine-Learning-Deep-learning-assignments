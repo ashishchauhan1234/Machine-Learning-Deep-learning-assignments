{
 "cells": [
  {
   "cell_type": "markdown",
   "metadata": {},
   "source": [
    "## Q1. Write a lambda function to extract first word of a string."
   ]
  },
  {
   "cell_type": "code",
   "execution_count": null,
   "metadata": {},
   "outputs": [],
   "source": [
    "s = input()\n",
    "b = lambda a: a[0]\n",
    "print(\"First word of the sting :: {}\".format(b(s)))"
   ]
  },
  {
   "cell_type": "markdown",
   "metadata": {},
   "source": [
    "## Q2. Write a function to extract first word of a string( with many words seprated by space)"
   ]
  },
  {
   "cell_type": "code",
   "execution_count": null,
   "metadata": {},
   "outputs": [],
   "source": [
    "s = input()\n",
    "b = lambda a: [c[0] for c in a.split(\" \")]\n",
    "print(\"List of first word of the stings :: {}\".format(b(s)))"
   ]
  },
  {
   "cell_type": "markdown",
   "metadata": {},
   "source": [
    "## Q3. Extract the first word from every string from a list of strings by using map function"
   ]
  },
  {
   "cell_type": "code",
   "execution_count": null,
   "metadata": {},
   "outputs": [],
   "source": [
    "s = list(map(str,input().split(\" \")))\n",
    "def b(a):\n",
    "    for c in a:\n",
    "        return c[0]\n",
    "res = map(b,s)\n",
    "print(list(res))"
   ]
  },
  {
   "cell_type": "markdown",
   "metadata": {},
   "source": [
    "## Q4. write a function to return a list of prime factor of a given number."
   ]
  },
  {
   "cell_type": "code",
   "execution_count": 2,
   "metadata": {},
   "outputs": [
    {
     "name": "stdout",
     "output_type": "stream",
     "text": [
      "89\n",
      "Prime factor of given num 89 is [89]\n"
     ]
    }
   ],
   "source": [
    "num = int(input())\n",
    "def primeFactor(a):\n",
    "    c,d=[],a\n",
    "    for i in range(2,a+1):\n",
    "        if d%i == 0:\n",
    "            while d%i == 0:\n",
    "                d = d//i\n",
    "                c.append(i)\n",
    "    return c\n",
    "res = primeFactor(num)\n",
    "print(\"Prime factor of given num {} is {}\".format(num,res))"
   ]
  },
  {
   "cell_type": "markdown",
   "metadata": {},
   "source": [
    "## Q5. Write a function that finds 2nd largest among 4 numbers (repetitions are allowed without sorting)"
   ]
  },
  {
   "cell_type": "code",
   "execution_count": null,
   "metadata": {},
   "outputs": [],
   "source": [
    "a = list(map(int,input().split(\" \")))[:4]\n",
    "first = a[0]\n",
    "second = a[0]\n",
    "\n",
    "for i in a:\n",
    "    if first <= i:\n",
    "        second = first\n",
    "        first = i\n",
    "    elif second < i and first != i:\n",
    "        second = i\n",
    "print(\"The second highest num in the given list {} is {}\".format(a,second))"
   ]
  },
  {
   "cell_type": "code",
   "execution_count": null,
   "metadata": {},
   "outputs": [],
   "source": []
  }
 ],
 "metadata": {
  "kernelspec": {
   "display_name": "Python 3",
   "language": "python",
   "name": "python3"
  },
  "language_info": {
   "codemirror_mode": {
    "name": "ipython",
    "version": 3
   },
   "file_extension": ".py",
   "mimetype": "text/x-python",
   "name": "python",
   "nbconvert_exporter": "python",
   "pygments_lexer": "ipython3",
   "version": "3.7.6"
  }
 },
 "nbformat": 4,
 "nbformat_minor": 4
}

{
 "cells": [
  {
   "cell_type": "markdown",
   "metadata": {
    "id": "leY0WM3yzmOF"
   },
   "source": [
    "<h1>Regex Software services</h1>"
   ]
  },
  {
   "cell_type": "markdown",
   "metadata": {
    "id": "GY9uy0btzmOM"
   },
   "source": [
    "<h3> Machine learning & Deep learning training and Internship</h3>\n",
    "<h3>Name = Ashish Chauhan</h3> "
   ]
  },
  {
   "cell_type": "markdown",
   "metadata": {
    "id": "H7J3Koi1zmOO"
   },
   "source": [
    "<h3> Task - 1 :: Printing Patterns </h3> "
   ]
  },
  {
   "cell_type": "markdown",
   "metadata": {
    "id": "gKHYRy1bzmOP"
   },
   "source": [
    "## 1.\n",
    "<pre>\n",
    "5 5 5 5 5\n",
    "5 5 5 5\n",
    "5 5 5\n",
    "5 5\n",
    "5\n",
    "</pre>"
   ]
  },
  {
   "cell_type": "code",
   "execution_count": 1,
   "metadata": {
    "colab": {
     "base_uri": "https://localhost:8080/"
    },
    "id": "PX6ChfudzmOR",
    "outputId": "e12b1d4a-b587-4aba-aad5-8f3203fb444b"
   },
   "outputs": [
    {
     "name": "stdout",
     "output_type": "stream",
     "text": [
      "5 5 5 5 5 \n",
      "5 5 5 5 \n",
      "5 5 5 \n",
      "5 5 \n",
      "5 \n"
     ]
    }
   ],
   "source": [
    "n = 5\n",
    "for i in range(n):\n",
    "    for j in range(n-i):\n",
    "        print(\"5\",end = \" \")\n",
    "    print()"
   ]
  },
  {
   "cell_type": "markdown",
   "metadata": {
    "id": "GroIRP-izmOT"
   },
   "source": [
    "## 2.\n",
    "<pre>\n",
    "0 1 2 3 4 5\n",
    "0 1 2 3 4\n",
    "0 1 2 3\n",
    "0 1 2\n",
    "0 1\n",
    "</pre>"
   ]
  },
  {
   "cell_type": "code",
   "execution_count": 2,
   "metadata": {
    "id": "X3aLjiCUzmOZ"
   },
   "outputs": [
    {
     "name": "stdout",
     "output_type": "stream",
     "text": [
      "0 1 2 3 4 5 \n",
      "0 1 2 3 4 \n",
      "0 1 2 3 \n",
      "0 1 2 \n",
      "0 1 \n"
     ]
    }
   ],
   "source": [
    "n = 5\n",
    "for i in range(n):\n",
    "    for j in range(n-i+1):\n",
    "        print(j,end = \" \")\n",
    "    print()"
   ]
  },
  {
   "cell_type": "markdown",
   "metadata": {
    "id": "nJxi44ugzmOd"
   },
   "source": [
    "## 3.\n",
    "<pre>\n",
    "1\n",
    "3 3\n",
    "5 5 5\n",
    "7 7 7 7\n",
    "9 9 9 9 9\n",
    "</pre>"
   ]
  },
  {
   "cell_type": "code",
   "execution_count": 3,
   "metadata": {
    "colab": {
     "base_uri": "https://localhost:8080/"
    },
    "id": "GjipyaPLzmOf",
    "outputId": "be5f0a4e-56ae-407a-f053-fa6eb1d84ef7"
   },
   "outputs": [
    {
     "name": "stdout",
     "output_type": "stream",
     "text": [
      "1 \n",
      "3 3 \n",
      "5 5 5 \n",
      "7 7 7 7 \n",
      "9 9 9 9 9 \n"
     ]
    }
   ],
   "source": [
    "n = 5\n",
    "for i in range(n):\n",
    "    for j in range(i+1):\n",
    "        print(2*i+1,end = \" \")\n",
    "    print()"
   ]
  },
  {
   "cell_type": "markdown",
   "metadata": {
    "id": "jP0Z6tbEzmOh"
   },
   "source": [
    "## 4.\n",
    "<pre>\n",
    "1\n",
    "2 1\n",
    "3 2 1\n",
    "4 3 2 1\n",
    "5 4 3 2 1\n",
    "</pre>"
   ]
  },
  {
   "cell_type": "code",
   "execution_count": 4,
   "metadata": {
    "colab": {
     "base_uri": "https://localhost:8080/"
    },
    "id": "sJdLOnYMzmOi",
    "outputId": "63a4f74c-ea22-4f6c-9b54-403d83cf5c12"
   },
   "outputs": [
    {
     "name": "stdout",
     "output_type": "stream",
     "text": [
      "1 \n",
      "2 1 \n",
      "3 2 1 \n",
      "4 3 2 1 \n",
      "5 4 3 2 1 \n"
     ]
    }
   ],
   "source": [
    "n = 5\n",
    "for i in range(n):\n",
    "    for j in range(i+1,0,-1):\n",
    "        print(j,end = \" \")\n",
    "    print()"
   ]
  },
  {
   "cell_type": "markdown",
   "metadata": {
    "id": "Q2COuzZAzmOj"
   },
   "source": [
    "## 5.\n",
    "<pre>\n",
    "1\n",
    "3 2\n",
    "6 5 4\n",
    "10 9 8 7\n",
    "</pre>"
   ]
  },
  {
   "cell_type": "code",
   "execution_count": 5,
   "metadata": {
    "colab": {
     "base_uri": "https://localhost:8080/"
    },
    "id": "amJKR5qJzmOk",
    "outputId": "911448f4-de66-4309-f714-80628c63e35d"
   },
   "outputs": [
    {
     "name": "stdout",
     "output_type": "stream",
     "text": [
      "1 \n",
      "3 2 \n",
      "6 5 4 \n",
      "10 9 8 7 \n"
     ]
    }
   ],
   "source": [
    "n, x = 4, 0\n",
    "for i in range( n ):\n",
    "    x = x + i*2 + 1\n",
    "    for j in range( i + 1 ):\n",
    "        print( x, end = \" \" )\n",
    "        x -= 1\n",
    "    print()    "
   ]
  },
  {
   "cell_type": "markdown",
   "metadata": {
    "id": "WUimjJntzmOl"
   },
   "source": [
    "## 6.\n",
    "<pre>\n",
    "1\n",
    "1 1\n",
    "1 2 1\n",
    "1 3 3 1\n",
    "1 4 6 4 1\n",
    "1 5 10 10 5 1\n",
    "1 6 15 20 15 6 1\n",
    "</pre>"
   ]
  },
  {
   "cell_type": "code",
   "execution_count": 6,
   "metadata": {
    "id": "NonzFPrJzmOm"
   },
   "outputs": [
    {
     "name": "stdout",
     "output_type": "stream",
     "text": [
      "1 \n",
      "1 1 \n",
      "1 2 1 \n",
      "1 3 3 1 \n",
      "1 4 6 4 1 \n",
      "1 5 10 10 5 1 \n",
      "1 6 15 20 15 6 1 \n"
     ]
    }
   ],
   "source": [
    "n = 7\n",
    "for i in range(n):\n",
    "    for j in range(0, i+1):\n",
    "        res = 1\n",
    "        if j > i-j:\n",
    "            j = i - j\n",
    "        for k in range(0, j):\n",
    "            res = res * (i - k)\n",
    "            res = res // (k + 1)\n",
    "        print(res , end = \" \")\n",
    "    print()"
   ]
  },
  {
   "cell_type": "markdown",
   "metadata": {
    "id": "4RjLT26NzmOm"
   },
   "source": [
    "## 7.\n",
    "<pre>\n",
    "1 2 3 4 5\n",
    "2 2 3 4 5\n",
    "3 3 3 4 5\n",
    "4 4 4 4 5\n",
    "5 5 5 5 5\n",
    "</pre>"
   ]
  },
  {
   "cell_type": "code",
   "execution_count": 7,
   "metadata": {
    "colab": {
     "base_uri": "https://localhost:8080/"
    },
    "id": "6hKErOUXzmOn",
    "outputId": "026a0cce-4b49-42c7-d28c-b7cce40d3bc3"
   },
   "outputs": [
    {
     "name": "stdout",
     "output_type": "stream",
     "text": [
      "1 2 3 4 5 \n",
      "2 2 3 4 5 \n",
      "3 3 3 4 5 \n",
      "4 4 4 4 5 \n",
      "5 5 5 5 5 \n"
     ]
    }
   ],
   "source": [
    "n = 5\n",
    "for i in range(n):\n",
    "    for j in range(n):\n",
    "        if i < j:\n",
    "            print(j+1, end = \" \")\n",
    "        else:\n",
    "            print(i+1, end = \" \")\n",
    "    print()"
   ]
  },
  {
   "cell_type": "markdown",
   "metadata": {
    "id": "5kSRPcZtzmOo"
   },
   "source": [
    "## 8.\n",
    "<pre>\n",
    "1\n",
    "2 4\n",
    "3 6 9 \n",
    "4 8 12 16\n",
    "5 10 15 20 25\n",
    "6 12 18 24 30 36\n",
    "7 14 21 28 35 42 49\n",
    "8 16 24 32 40 48 56 64\n",
    "</pre>"
   ]
  },
  {
   "cell_type": "code",
   "execution_count": 8,
   "metadata": {
    "id": "9Gj1UTjozmOo"
   },
   "outputs": [
    {
     "name": "stdout",
     "output_type": "stream",
     "text": [
      "1 \n",
      "2 4 \n",
      "3 6 9 \n",
      "4 8 12 16 \n",
      "5 10 15 20 25 \n",
      "6 12 18 24 30 36 \n",
      "7 14 21 28 35 42 49 \n",
      "8 16 24 32 40 48 56 64 \n"
     ]
    }
   ],
   "source": [
    "n= 8\n",
    "for i in range(1,n+1):\n",
    "    x = i\n",
    "    for j in range (1,i+1):\n",
    "        print(x*j,end = \" \") \n",
    "    print()"
   ]
  },
  {
   "cell_type": "markdown",
   "metadata": {
    "id": "BbHvdnaLzmOp"
   },
   "source": [
    "## 9.\n",
    "<pre>\n",
    "* * * * * *\n",
    " * * * * *\n",
    "  * * * *\n",
    "   * * *\n",
    "    * *\n",
    "     *\n",
    "</pre>"
   ]
  },
  {
   "cell_type": "code",
   "execution_count": 9,
   "metadata": {
    "id": "eHFu_0kdzmOp"
   },
   "outputs": [
    {
     "name": "stdout",
     "output_type": "stream",
     "text": [
      "* * * * * * \n",
      " * * * * * \n",
      "  * * * * \n",
      "   * * * \n",
      "    * * \n",
      "     * \n"
     ]
    }
   ],
   "source": [
    "n = 6\n",
    "for i in range(n):\n",
    "    for j in range(i):\n",
    "        print(\" \",end = \"\")\n",
    "    for j in range(n-i, 0 , -1):\n",
    "        print(\"*\",end = \" \")\n",
    "    print()"
   ]
  },
  {
   "cell_type": "markdown",
   "metadata": {
    "id": "IQq9sHkyzmOq"
   },
   "source": [
    "## 10.\n",
    "<pre>\n",
    "       *\n",
    "      * *\n",
    "     * * *\n",
    "    * * * *\n",
    "   * * * * *\n",
    "  * * * * * *\n",
    " * * * * * * *\n",
    "* * * * * * * *\n",
    "</pre>"
   ]
  },
  {
   "cell_type": "code",
   "execution_count": 10,
   "metadata": {
    "id": "ZVCsQzKOzmOq"
   },
   "outputs": [
    {
     "name": "stdout",
     "output_type": "stream",
     "text": [
      "        * \n",
      "       * * \n",
      "      * * * \n",
      "     * * * * \n",
      "    * * * * * \n",
      "   * * * * * * \n",
      "  * * * * * * * \n",
      " * * * * * * * * \n"
     ]
    }
   ],
   "source": [
    "n = 8\n",
    "for i in range(n):\n",
    "    for j in range(n-i,0,-1):\n",
    "        print(\" \",end = \"\")\n",
    "    for j in range(i+1):\n",
    "        print(\"*\",end = \" \")\n",
    "    print()"
   ]
  },
  {
   "cell_type": "markdown",
   "metadata": {
    "id": "FzjuVHYXzmOr"
   },
   "source": [
    "## 11.\n",
    "<pre>\n",
    "*\n",
    "* *\n",
    "* * *\n",
    "* * * *\n",
    "* * * * *\n",
    "* * * * * *\n",
    "\n",
    "* * * * * *\n",
    "* * * * *\n",
    "* * * *\n",
    "* * *\n",
    "* *\n",
    "*\n",
    "</pre>"
   ]
  },
  {
   "cell_type": "code",
   "execution_count": 11,
   "metadata": {
    "id": "_aFkDqkJzmOr"
   },
   "outputs": [
    {
     "name": "stdout",
     "output_type": "stream",
     "text": [
      "* \n",
      "* * \n",
      "* * * \n",
      "* * * * \n",
      "* * * * * \n",
      "* * * * * * \n",
      "\n",
      "* * * * * * \n",
      "* * * * * \n",
      "* * * * \n",
      "* * * \n",
      "* * \n",
      "* \n"
     ]
    }
   ],
   "source": [
    "n = 13\n",
    "for i in range(n):\n",
    "    if i < n // 2:\n",
    "        for j in range(i+1):\n",
    "            print(\"*\",end = \" \")\n",
    "        print()\n",
    "    elif i == n//2:\n",
    "        print()\n",
    "    else:\n",
    "        for j in range(n-i, 0 , -1):\n",
    "            print(\"*\",end = \" \")\n",
    "        print()"
   ]
  },
  {
   "cell_type": "markdown",
   "metadata": {
    "id": "w4pOmni3zmOs"
   },
   "source": [
    "## 12.\n",
    "<pre>\n",
    "*\n",
    "* *\n",
    "* * *\n",
    "* * * *\n",
    "* * * * *\n",
    "* * * *\n",
    "* * *\n",
    "* *\n",
    "*\n",
    "</pre>"
   ]
  },
  {
   "cell_type": "code",
   "execution_count": 12,
   "metadata": {
    "id": "yodff5f2zmOs"
   },
   "outputs": [
    {
     "name": "stdout",
     "output_type": "stream",
     "text": [
      "* \n",
      "* * \n",
      "* * * \n",
      "* * * * \n",
      "* * * * * \n",
      "* * * * \n",
      "* * * \n",
      "* * \n",
      "* \n"
     ]
    }
   ],
   "source": [
    "n = 9\n",
    "for i in range(n):\n",
    "    if i < n // 2:\n",
    "        for j in range(i+1):\n",
    "            print(\"*\",end = \" \")\n",
    "    else:\n",
    "        for j in range(n-i, 0 , -1):\n",
    "            print(\"*\",end = \" \")\n",
    "    print()"
   ]
  },
  {
   "cell_type": "markdown",
   "metadata": {
    "id": "X9USHyMmzmOt"
   },
   "source": [
    "## 13.\n",
    "<pre>\n",
    "        *\n",
    "      * *\n",
    "    * * *\n",
    "  * * * *\n",
    "* * * * *\n",
    "  * * * *\n",
    "    * * *\n",
    "      * *\n",
    "        *\n",
    "</pre>"
   ]
  },
  {
   "cell_type": "code",
   "execution_count": 13,
   "metadata": {
    "id": "Y6-hZ60kzmOu"
   },
   "outputs": [
    {
     "name": "stdout",
     "output_type": "stream",
     "text": [
      "                  * \n",
      "                * * \n",
      "              * * * \n",
      "            * * * * \n",
      "          * * * * * \n",
      "            * * * * \n",
      "              * * * \n",
      "                * * \n",
      "                  * \n"
     ]
    }
   ],
   "source": [
    "n = 9\n",
    "for i in range(n):\n",
    "    if i < n // 2:\n",
    "        for j in range(n-i, 0 , -1):\n",
    "            print(\" \",end = \" \")\n",
    "        for j in range(i+1):\n",
    "            print(\"*\",end = \" \")\n",
    "    else:\n",
    "        for j in range(i+1):\n",
    "            print(\" \",end = \" \")\n",
    "        for j in range(n-i, 0 , -1):\n",
    "            print(\"*\",end = \" \")\n",
    "    print()"
   ]
  },
  {
   "cell_type": "markdown",
   "metadata": {
    "id": "9oIN7ogVzmOu"
   },
   "source": [
    "## 14.\n",
    "<pre>\n",
    "* * * * *\n",
    " * * * *\n",
    "  * * *\n",
    "   * *\n",
    "    *\n",
    "    *\n",
    "   * *\n",
    "  * * *\n",
    " * * * *\n",
    "* * * * *\n",
    "</pre>"
   ]
  },
  {
   "cell_type": "code",
   "execution_count": 14,
   "metadata": {
    "id": "I_WZi8yYzmOv"
   },
   "outputs": [
    {
     "name": "stdout",
     "output_type": "stream",
     "text": [
      "* * * * * \n",
      " * * * * \n",
      "  * * * \n",
      "   * * \n",
      "    * \n",
      "    * \n",
      "   * * \n",
      "  * * * \n",
      " * * * * \n",
      "* * * * * \n"
     ]
    }
   ],
   "source": [
    "n = 10\n",
    "for i in range(n):\n",
    "    if i < n // 2:\n",
    "        for j in range(i):\n",
    "            print(\" \",end = \"\")\n",
    "        for j in range(n-i,n//2 , -1):\n",
    "            print(\"*\",end = \" \")\n",
    "    else:\n",
    "        for j in range(n-i, 1 , -1):\n",
    "            print(\" \",end = \"\")\n",
    "        for j in range(i- n//2 + 1):\n",
    "            print(\"*\",end = \" \")\n",
    "    print()"
   ]
  },
  {
   "cell_type": "markdown",
   "metadata": {
    "id": "-NzN6_AczmOv"
   },
   "source": [
    "## 15.\n",
    "<pre>\n",
    "****************\n",
    "*******__*******\n",
    "******____******\n",
    "*****______*****\n",
    "****________****\n",
    "***__________***\n",
    "**____________**\n",
    "*______________*\n",
    "</pre>"
   ]
  },
  {
   "cell_type": "code",
   "execution_count": 15,
   "metadata": {
    "id": "ekUVq9F4zmOw"
   },
   "outputs": [
    {
     "name": "stdout",
     "output_type": "stream",
     "text": [
      "****************\n",
      "*******__*******\n",
      "******____******\n",
      "*****______*****\n",
      "****________****\n",
      "***__________***\n",
      "**____________**\n",
      "*______________*\n"
     ]
    }
   ],
   "source": [
    "n = 8\n",
    "for i in range(n):\n",
    "    for j in range(2*n):\n",
    "        if j < n-i or j >= n+i:\n",
    "            print(\"*\",end = \"\")\n",
    "        else:\n",
    "            print(\"_\",end = \"\")\n",
    "    print()"
   ]
  },
  {
   "cell_type": "code",
   "execution_count": null,
   "metadata": {},
   "outputs": [],
   "source": []
  }
 ],
 "metadata": {
  "colab": {
   "collapsed_sections": [],
   "name": "Copy of Assignment 1(Printing patterns).ipynb",
   "provenance": []
  },
  "kernelspec": {
   "display_name": "Python 3",
   "language": "python",
   "name": "python3"
  },
  "language_info": {
   "codemirror_mode": {
    "name": "ipython",
    "version": 3
   },
   "file_extension": ".py",
   "mimetype": "text/x-python",
   "name": "python",
   "nbconvert_exporter": "python",
   "pygments_lexer": "ipython3",
   "version": "3.7.6"
  }
 },
 "nbformat": 4,
 "nbformat_minor": 1
}
